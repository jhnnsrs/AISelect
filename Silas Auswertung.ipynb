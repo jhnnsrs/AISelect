{
 "cells": [
  {
   "cell_type": "code",
   "execution_count": 1,
   "metadata": {
    "collapsed": false
   },
   "outputs": [],
   "source": [
    "mypath = \"AIS Nachtrag\"\n",
    "\n",
    "import h5py\n",
    "import os\n",
    "from os import listdir\n",
    "from os.path import isfile, join, isdir\n",
    "import numpy as np\n",
    "from openpyxl import Workbook\n",
    "import datetime\n",
    "today = datetime.date.today()\n",
    "\n",
    "onlydirs = [f for f in listdir(mypath) if isdir(join(mypath, f))]\n",
    "\n",
    "samplelist = {}"
   ]
  },
  {
   "cell_type": "code",
   "execution_count": 2,
   "metadata": {
    "collapsed": false
   },
   "outputs": [
    {
     "data": {
      "text/plain": [
       "['AIS M1_WKL_1_#20-1-1-1',\n 'AIS M1_WKL_1_#20-1-2-1',\n 'AIS M1_WKL_1_#20-1-3-1',\n 'AIS M1_WKL_1_#20-2-1-1',\n 'AIS M1_WKL_1_#20-2-2-1',\n 'AIS M1_WKL_1_#20-2-3-1',\n 'AIS M1_WKL_1_#21-1-1-1',\n 'AIS M1_WKL_1_#21-1-2-1',\n 'AIS M1_WKL_1_#21-1-3-1',\n 'AIS M1_WKL_1_#21-2-1-1',\n 'AIS M1_WKL_1_#21-2-1-2',\n 'AIS M1_WKL_1_#21-2-2-1',\n 'AIS M1_WKL_1_#24-1-1-1',\n 'AIS M1_WKL_1_#24-1-2-1',\n 'AIS M1_WKL_1_#24-1-3-1',\n 'AIS M1_WKL_1_#24-2-1-1',\n 'AIS M1_WKL_1_#24-2-2-1',\n 'AIS M1_WKL_1_#24-2-3-1',\n 'AIS M1_WKL_1_#28-1-1-1',\n 'AIS M1_WKL_1_#28-1-2-1',\n 'AIS M1_WKL_1_#28-1-3-1',\n 'AIS M1_WKL_1_#28-2-1-1',\n 'AIS M1_WKL_1_#28-2-2-1',\n 'AIS M1_WKL_1_#28-2-2-2',\n 'AIS M1_WKL_1_#29-1-1-1',\n 'AIS M1_WKL_1_#29-1-2-1',\n 'AIS M1_WKL_1_#29-1-3-1',\n 'AIS M1_WKL_1_#29-2-1-1',\n 'AIS M1_WKL_1_#29-2-2-1',\n 'AIS M1_WKL_1_#29-2-3-1',\n 'AIS M1_WKL_1_#32-1-1-1',\n 'AIS M1_WKL_1_#32-1-2-1',\n 'AIS M1_WKL_1_#32-1-3-1',\n 'AIS M1_WKL_1_#32-2-1-1',\n 'AIS M1_WKL_1_#32-2-2-1',\n 'AIS M1_WKL_1_#32-2-3-1',\n 'AIS M1_WKL_1_#34-1-1-1',\n 'AIS M1_WKL_1_#34-1-2-1',\n 'AIS M1_WKL_1_#34-1-3-1',\n 'AIS M1_WKL_1_#34-2-1-1',\n 'AIS M1_WKL_1_#34-2-2-1',\n 'AIS M1_WKL_1_#34-2-3-1',\n 'AIS M1_WKL_1_#36-1-1-1',\n 'AIS M1_WKL_1_#36-1-2-1',\n 'AIS M1_WKL_1_#36-1-3-1',\n 'AIS M1_WKL_1_#36-2-1-1',\n 'AIS M1_WKL_1_#36-2-2-1',\n 'AIS M1_WKL_1_#36-2-3-1']"
      ]
     },
     "execution_count": 2,
     "metadata": {},
     "output_type": "execute_result"
    }
   ],
   "source": [
    "onlydirs"
   ]
  },
  {
   "cell_type": "code",
   "execution_count": 3,
   "metadata": {
    "collapsed": false
   },
   "outputs": [],
   "source": [
    "h5filelist = []\n",
    "for root, subdirs, files in os.walk(mypath):\n",
    "    h5files = [join(root,f) for f in files if f.endswith(\".h5\")]\n",
    "    h5filelist += h5files"
   ]
  },
  {
   "cell_type": "code",
   "execution_count": 4,
   "metadata": {
    "collapsed": false
   },
   "outputs": [
    {
     "data": {
      "text/plain": [
       "['AIS Nachtrag\\\\AIS M1_WKL_1_#20-1-1-1\\\\M1_WKL_1_#20-1-1-1.h5',\n 'AIS Nachtrag\\\\AIS M1_WKL_1_#20-1-2-1\\\\M1_WKL_1_#20-1-2-1.h5',\n 'AIS Nachtrag\\\\AIS M1_WKL_1_#20-1-3-1\\\\M1_WKL_1_#20-1-3-1.h5',\n 'AIS Nachtrag\\\\AIS M1_WKL_1_#20-2-1-1\\\\M1_WKL_1_#20-2-1-1.h5',\n 'AIS Nachtrag\\\\AIS M1_WKL_1_#20-2-2-1\\\\M1_WKL_1_#20-2-2-1.h5',\n 'AIS Nachtrag\\\\AIS M1_WKL_1_#20-2-3-1\\\\M1_WKL_1_#20-2-3-1.h5',\n 'AIS Nachtrag\\\\AIS M1_WKL_1_#21-1-1-1\\\\M1_WKL_1_#21-1-1-1.h5',\n 'AIS Nachtrag\\\\AIS M1_WKL_1_#21-1-2-1\\\\M1_WKL_1_#21-1-2-1.h5',\n 'AIS Nachtrag\\\\AIS M1_WKL_1_#21-1-3-1\\\\M1_WKL_1_#21-1-3-1.h5',\n 'AIS Nachtrag\\\\AIS M1_WKL_1_#21-2-1-1\\\\M1_WKL_1_#21-2-1-1.h5',\n 'AIS Nachtrag\\\\AIS M1_WKL_1_#21-2-1-2\\\\M1_WKL_1_#21-2-1-2.h5',\n 'AIS Nachtrag\\\\AIS M1_WKL_1_#21-2-2-1\\\\M1_WKL_1_#21-2-2-1.h5',\n 'AIS Nachtrag\\\\AIS M1_WKL_1_#24-1-1-1\\\\M1_WKL_1_#24-1-1-1.h5',\n 'AIS Nachtrag\\\\AIS M1_WKL_1_#24-1-2-1\\\\M1_WKL_1_#24-1-2-1.h5',\n 'AIS Nachtrag\\\\AIS M1_WKL_1_#24-1-3-1\\\\M1_WKL_1_#24-1-3-1.h5',\n 'AIS Nachtrag\\\\AIS M1_WKL_1_#24-2-1-1\\\\M1_WKL_1_#24-2-1-1.h5',\n 'AIS Nachtrag\\\\AIS M1_WKL_1_#24-2-2-1\\\\M1_WKL_1_#24-2-2-1.h5',\n 'AIS Nachtrag\\\\AIS M1_WKL_1_#24-2-3-1\\\\M1_WKL_1_#24-2-3-1.h5',\n 'AIS Nachtrag\\\\AIS M1_WKL_1_#28-1-1-1\\\\M1_WKL_1_#28-1-1-1.h5',\n 'AIS Nachtrag\\\\AIS M1_WKL_1_#28-1-2-1\\\\M1_WKL_1_#28-1-2-1.h5',\n 'AIS Nachtrag\\\\AIS M1_WKL_1_#28-1-3-1\\\\M1_WKL_1_#28-1-3-1.h5',\n 'AIS Nachtrag\\\\AIS M1_WKL_1_#28-2-1-1\\\\M1_WKL_1_#28-2-1-1.h5',\n 'AIS Nachtrag\\\\AIS M1_WKL_1_#28-2-2-1\\\\M1_WKL_1_#28-2-2-1.h5',\n 'AIS Nachtrag\\\\AIS M1_WKL_1_#28-2-2-2\\\\M1_WKL_1_#28-2-2-2.h5',\n 'AIS Nachtrag\\\\AIS M1_WKL_1_#29-1-1-1\\\\M1_WKL_1_#29-1-1-1.h5',\n 'AIS Nachtrag\\\\AIS M1_WKL_1_#29-1-2-1\\\\M1_WKL_1_#29-1-2-1.h5',\n 'AIS Nachtrag\\\\AIS M1_WKL_1_#29-1-3-1\\\\M1_WKL_1_#29-1-3-1.h5',\n 'AIS Nachtrag\\\\AIS M1_WKL_1_#29-2-1-1\\\\M1_WKL_1_#29-2-1-1.h5',\n 'AIS Nachtrag\\\\AIS M1_WKL_1_#29-2-2-1\\\\M1_WKL_1_#29-2-2-1.h5',\n 'AIS Nachtrag\\\\AIS M1_WKL_1_#29-2-3-1\\\\M1_WKL_1_#29-2-3-1.h5',\n 'AIS Nachtrag\\\\AIS M1_WKL_1_#32-1-1-1\\\\M1_WKL_1_#32-1-1-1.h5',\n 'AIS Nachtrag\\\\AIS M1_WKL_1_#32-1-2-1\\\\M1_WKL_1_#32-1-2-1.h5',\n 'AIS Nachtrag\\\\AIS M1_WKL_1_#32-1-3-1\\\\M1_WKL_1_#32-1-3-1.h5',\n 'AIS Nachtrag\\\\AIS M1_WKL_1_#32-2-1-1\\\\M1_WKL_1_#32-2-1-1.h5',\n 'AIS Nachtrag\\\\AIS M1_WKL_1_#32-2-2-1\\\\M1_WKL_1_#32-2-2-1.h5',\n 'AIS Nachtrag\\\\AIS M1_WKL_1_#32-2-3-1\\\\M1_WKL_1_#32-2-3-1.h5',\n 'AIS Nachtrag\\\\AIS M1_WKL_1_#34-1-1-1\\\\M1_WKL_1_#34-1-1-1.h5',\n 'AIS Nachtrag\\\\AIS M1_WKL_1_#34-1-2-1\\\\M1_WKL_1_#34-1-2-1.h5',\n 'AIS Nachtrag\\\\AIS M1_WKL_1_#34-1-3-1\\\\M1_WKL_1_#34-1-3-1.h5',\n 'AIS Nachtrag\\\\AIS M1_WKL_1_#34-2-1-1\\\\M1_WKL_1_#34-2-1-1.h5',\n 'AIS Nachtrag\\\\AIS M1_WKL_1_#34-2-2-1\\\\M1_WKL_1_#34-2-2-1.h5',\n 'AIS Nachtrag\\\\AIS M1_WKL_1_#34-2-3-1\\\\M1_WKL_1_#34-2-3-1.h5',\n 'AIS Nachtrag\\\\AIS M1_WKL_1_#36-1-1-1\\\\M1_WKL_1_#36-1-1-1.h5',\n 'AIS Nachtrag\\\\AIS M1_WKL_1_#36-1-2-1\\\\M1_WKL_1_#36-1-2-1.h5',\n 'AIS Nachtrag\\\\AIS M1_WKL_1_#36-1-3-1\\\\M1_WKL_1_#36-1-3-1.h5',\n 'AIS Nachtrag\\\\AIS M1_WKL_1_#36-2-1-1\\\\M1_WKL_1_#36-2-1-1.h5',\n 'AIS Nachtrag\\\\AIS M1_WKL_1_#36-2-2-1\\\\M1_WKL_1_#36-2-2-1.h5',\n 'AIS Nachtrag\\\\AIS M1_WKL_1_#36-2-3-1\\\\M1_WKL_1_#36-2-3-1.h5']"
      ]
     },
     "execution_count": 4,
     "metadata": {},
     "output_type": "execute_result"
    }
   ],
   "source": [
    "h5filelist"
   ]
  },
  {
   "cell_type": "code",
   "execution_count": 5,
   "metadata": {
    "collapsed": false
   },
   "outputs": [
    {
     "name": "stdout",
     "output_type": "stream",
     "text": [
      "#20\n#20-1-1-1\\M1\n1\nM1_WKL_1_#20-1-1-1    30.8911606823   6.32204490507\n#20\n#20-1-2-1\\M1\n1\nM1_WKL_1_#20-1-2-1    30.9263042098   4.47670642339\n#20\n#20-1-3-1\\M1\n1\nM1_WKL_1_#20-1-3-1    33.2838491804   7.1563451372\n#20\n#20-2-1-1\\M1\n1\nM1_WKL_1_#20-2-1-1    34.0892216859   5.26447740071\n#20\n#20-2-2-1\\M1\n1\nM1_WKL_1_#20-2-2-1    35.2753157394   4.67781176749\n#20\n#20-2-3-1\\M1\n1\nM1_WKL_1_#20-2-3-1    34.0540781583   3.8500211574\n#21\n#21-1-1-1\\M1\n1\nM1_WKL_1_#21-1-1-1    30.1685218979   4.58187899092\n#21\n#21-1-2-1\\M1\n1\nM1_WKL_1_#21-1-2-1    34.5285157797   3.9487627828\n#21\n#21-1-3-1\\M1\n1\nM1_WKL_1_#21-1-3-1    34.2446642114   4.49028507593\n#21\n#21-2-1-1\\M1\n1\nM1_WKL_1_#21-2-1-1    29.6403705895   3.25805863402\n#21\n#21-2-1-2\\M1\n2\nM1_WKL_1_#21-2-1-2    31.5742629983   1.77747939295\n#21\n#21-2-2-1\\M1\n1\nM1_WKL_1_#21-2-2-1    34.3235118693   6.55744437074\n#24\n#24-1-1-1\\M1\n1\nM1_WKL_1_#24-1-1-1    30.7370698309   4.63416061207\n#24\n#24-1-2-1\\M1\n1\nM1_WKL_1_#24-1-2-1    34.3088687328   3.77230614483\n#24\n#24-1-3-1\\M1\n1\nM1_WKL_1_#24-1-3-1    32.7420531313   4.15782570821\n#24\n#24-2-1-1\\M1\n1\nM1_WKL_1_#24-2-1-1    35.5960004279   8.48156314038\n#24\n#24-2-2-1\\M1\n1\nM1_WKL_1_#24-2-2-1    34.3779006618   3.40428484527\n#24\n#24-2-3-1\\M1\n1\nM1_WKL_1_#24-2-3-1    31.7939100453   5.41886448116\n#28\n#28-1-1-1\\M1\n1\nM1_WKL_1_#28-1-1-1    34.1825716808   5.78591504008\n#28\n#28-1-2-1\\M1\n1\nM1_WKL_1_#28-1-2-1    34.5404965278   5.19077573819\n#28\n#28-1-3-1\\M1\n1\nM1_WKL_1_#28-1-3-1    34.6414771182   8.37997530433\n#28\n#28-2-1-1\\M1\n1\nM1_WKL_1_#28-2-1-1    34.1939764313   2.65878545638\n#28\n#28-2-2-1\\M1\n1\nM1_WKL_1_#28-2-2-1    35.8756843343   3.78036894242\n#28\n#28-2-2-2\\M1\n2\nM1_WKL_1_#28-2-2-2    34.0133436151   3.57375893202\n#29\n#29-1-1-1\\M1\n1\nM1_WKL_1_#29-1-1-1    37.1642803431   5.07470247999\n#29\n#29-1-2-1\\M1\n1\nM1_WKL_1_#29-1-2-1    32.4604543531   6.100568616\n#29\n#29-1-3-1\\M1\n1\nM1_WKL_1_#29-1-3-1    32.9470570417   6.57522891121\n#29\n#29-2-1-1\\M1\n1\nM1_WKL_1_#29-2-1-1    37.2960685712   4.27338351689\n#29\n#29-2-2-1\\M1\n1\nM1_WKL_1_#29-2-2-1    35.0029534011   4.10502878477\n#29\n#29-2-3-1\\M1\n1\nM1_WKL_1_#29-2-3-1    34.2781181462   6.3094637908\n#32\n#32-1-1-1\\M1\n1\nM1_WKL_1_#32-1-1-1    29.4912768365   4.6746249423\n#32\n#32-1-2-1\\M1\n1\nM1_WKL_1_#32-1-2-1    35.011739283   3.21436024297\n#32\n#32-1-3-1\\M1\n1\nM1_WKL_1_#32-1-3-1    29.8829807369   6.49675531618\n#32\n#32-2-1-1\\M1\n1\nM1_WKL_1_#32-2-1-1    32.643944117   6.75240750789\n#32\n#32-2-2-1\\M1\n1\nM1_WKL_1_#32-2-2-1    35.2627644795   7.42600885393\n#32\n#32-2-3-1\\M1\n1\nM1_WKL_1_#32-2-3-1    29.3887748812   4.56337554481\n#34\n#34-1-1-1\\M1\n1\nM1_WKL_1_#34-1-1-1    29.2716297895   3.91560864198\n#34\n#34-1-2-1\\M1\n1\nM1_WKL_1_#34-1-2-1    26.1087123135   4.91477412253\n#34\n#34-1-3-1\\M1\n1\nM1_WKL_1_#34-1-3-1    35.6706804239   7.8701103185\n#34\n#34-2-1-1\\M1\n1\nM1_WKL_1_#34-2-1-1    32.8943417505   6.06374809264\n#34\n#34-2-2-1\\M1\n1\nM1_WKL_1_#34-2-2-1    30.1399677818   3.31050874957\n#34\n#34-2-3-1\\M1\n1\nM1_WKL_1_#34-2-3-1    28.5169450641   3.86877615071\n#36\n#36-1-1-1\\M1\n1\nM1_WKL_1_#36-1-1-1    29.4473474271   9.30704667748\n#36\n#36-1-2-1\\M1\n1\nM1_WKL_1_#36-1-2-1    29.99979303   2.96677770764\n#36\n#36-1-3-1\\M1\n1\nM1_WKL_1_#36-1-3-1    32.3045894294   7.25566834549\n#36\n#36-2-1-1\\M1\n1\nM1_WKL_1_#36-2-1-1    29.3887748812   2.47256632941\n#36\n#36-2-2-1\\M1\n1\nM1_WKL_1_#36-2-2-1    30.5485112891   5.84367490607\n#36\n#36-2-3-1\\M1\n1\nM1_WKL_1_#36-2-3-1    29.4766337   4.28238519601\n"
     ]
    }
   ],
   "source": [
    "wb = Workbook()\n",
    "ws = wb.active\n",
    "count = 0 \n",
    "normallist = {}\n",
    "axotomiertlist = {}\n",
    "samplelist = {} \n",
    "for h5file in h5filelist:\n",
    "    if h5py.is_hdf5(h5file):\n",
    "        lala = h5py.File(h5file,\"r\")\n",
    "        \n",
    "        try:\n",
    "            rois = [key for key in lala[\"Data\"].keys()]\n",
    "            lengths = []\n",
    "            for roi in rois:\n",
    "                length = lala[\"Data/\"+roi+\"/Physical\"].attrs[\"AISPhysicalLength\"]\n",
    "                # length = lala[\"Data/\"+roi+\"/Pixeldata\"].attrs[\"AISend\"] - lala[\"Data/\"+roi+\"/Pixeldata\"].attrs[\n",
    "                # \"AISstart\"] \n",
    "                lengths.append(length*1024)\n",
    "        \n",
    "            lengths = np.array(lengths)\n",
    "            seriesname = lala.attrs[\"seriesname\"].split(\"_\")[3].split(\"-\")[0] # should evaluate to the animal\n",
    "            print(seriesname)\n",
    "            dirname = h5file.split(\"_\")[3]\n",
    "            print(dirname)\n",
    "            axotomiert = dirname.split(\"-\")[-1][0] #should evaluate to the A character\n",
    "            print(axotomiert)\n",
    "            if axotomiert ==\"A\":\n",
    "                axotomiertlist[seriesname] = np.append(axotomiertlist.get(seriesname,np.array([])),lengths)\n",
    "            elif axotomiert ==\"N\": \n",
    "                normallist[seriesname] = np.append(normallist.get(seriesname,np.array([])),lengths)\n",
    "            else:\n",
    "                samplelist[seriesname] = np.append(samplelist.get(seriesname,np.array([])),lengths)\n",
    "            \n",
    "            print(lala.attrs[\"seriesname\"] + \"    \" +str(lengths.mean()) + \"   \" + str(np.std(lengths)))\n",
    "        except KeyError as e :\n",
    "            print(\"File {0} doesnt hava data Object: {1}\".format(h5file,e))\n",
    "            pass\n",
    "        \n",
    "    else:\n",
    "        print(\"File \" + h5file + \" doesn't conform with h5 standards\")\n",
    "        pass\n",
    "    \n",
    "    count = 1\n",
    "    if count > 5: break"
   ]
  },
  {
   "cell_type": "code",
   "execution_count": 6,
   "metadata": {
    "collapsed": false
   },
   "outputs": [],
   "source": [
    "for key,value in normallist.items():\n",
    "    print(\"Sample: {0}  Mean: {1} Std: {2} AIS: {3}\".format(key,value.mean(),np.std(value),len(value)))\n",
    "    "
   ]
  },
  {
   "cell_type": "code",
   "execution_count": 7,
   "metadata": {
    "collapsed": false
   },
   "outputs": [],
   "source": [
    "for key,value in axotomiertlist.items():\n",
    "    print(\"Sample: {0}  Mean: {1} Std: {2} AIS: {3}\".format(key,value.mean(),np.std(value),len(value)))"
   ]
  },
  {
   "cell_type": "code",
   "execution_count": 8,
   "metadata": {
    "collapsed": false
   },
   "outputs": [
    {
     "name": "stdout",
     "output_type": "stream",
     "text": [
      "Sample: #29  Mean: 34.744169244014294 Std: 5.929238179780893 AIS: 55\nSample: #21  Mean: 32.300096648918114 Std: 4.712024792765694 AIS: 66\nSample: #32  Mean: 31.825613817147225 Std: 6.138197481824102 AIS: 53\nSample: #28  Mean: 34.532983177306086 Std: 4.937803231740051 AIS: 59\nSample: #20  Mean: 33.11534047155087 Std: 5.585539826429525 AIS: 65\nSample: #24  Mean: 33.107085604511845 Std: 5.626012089158624 AIS: 56\nSample: #34  Mean: 30.061588467134982 Std: 5.689656127899112 AIS: 57\nSample: #36  Mean: 30.3533119134664 Std: 5.943020067927084 AIS: 69\n"
     ]
    }
   ],
   "source": [
    "for key,value in samplelist.items():\n",
    "    print(\"Sample: {0}  Mean: {1} Std: {2} AIS: {3}\".format(key,value.mean(),np.std(value),len(value)))"
   ]
  },
  {
   "cell_type": "code",
   "execution_count": 38,
   "metadata": {
    "collapsed": false
   },
   "outputs": [],
   "source": [
    "wb = Workbook()\n",
    "ws = wb.active\n",
    "\n",
    "for key,value in normallist.items():\n",
    "    ws = wb.create_sheet(\"Sample {0}\".format(key[1:]))\n",
    "    ws.append([\"AIS Lengths\"])\n",
    "    for item in value:\n",
    "        ws.append([item])\n",
    "    \n",
    "wb.save(\"Silas nicht axotomiert.xlsx\")\n"
   ]
  },
  {
   "cell_type": "code",
   "execution_count": 39,
   "metadata": {
    "collapsed": false
   },
   "outputs": [],
   "source": [
    "wb = Workbook()\n",
    "ws = wb.active\n",
    "\n",
    "for key,value in axotomiertlist.items():\n",
    "    ws = wb.create_sheet(\"Sample {0}\".format(key[1:]))\n",
    "    ws.append([\"AIS Lengths\"])\n",
    "    for item in value:\n",
    "        ws.append([item])\n",
    "    \n",
    "wb.save(\"Silas axotomiert.xlsx\")"
   ]
  },
  {
   "cell_type": "code",
   "execution_count": 9,
   "metadata": {
    "collapsed": false
   },
   "outputs": [],
   "source": [
    "wb = Workbook()\n",
    "ws = wb.active\n",
    "\n",
    "for key,value in samplelist.items():\n",
    "    ws = wb.create_sheet(\"Sample {0}\".format(key[1:]))\n",
    "    ws.append([\"AIS Lengths\"])\n",
    "    for item in value:\n",
    "        ws.append([item])\n",
    "    \n",
    "wb.save(\"Silas unsortiert.xlsx\")"
   ]
  },
  {
   "cell_type": "code",
   "execution_count": 25,
   "metadata": {
    "collapsed": false
   },
   "outputs": [
    {
     "name": "stdout",
     "output_type": "stream",
     "text": [
      "T-Wert: 4.8303691249 P-Wert: 0.0000021309\n"
     ]
    }
   ],
   "source": [
    "print(\"T-Wert: {0} P-Wert: {1}\".format(tvalue,pvalue))"
   ]
  }
 ],
 "metadata": {
  "kernelspec": {
   "display_name": "Python 3",
   "language": "python",
   "name": "python3"
  },
  "language_info": {
   "codemirror_mode": {
    "name": "ipython",
    "version": 3
   },
   "file_extension": ".py",
   "mimetype": "text/x-python",
   "name": "python",
   "nbconvert_exporter": "python",
   "pygments_lexer": "ipython3",
   "version": "3.5.1"
  }
 },
 "nbformat": 4,
 "nbformat_minor": 0
}
