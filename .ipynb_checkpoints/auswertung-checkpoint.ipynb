{
 "cells": [
  {
   "cell_type": "code",
   "execution_count": 9,
   "metadata": {
    "collapsed": true
   },
   "outputs": [],
   "source": [
    "import h5py\n",
    "from os import listdir\n",
    "from os.path import isfile, join, isdir\n",
    "import numpy as np\n",
    "\n",
    "mypath = \"Nora\"\n",
    "onlydirs = [f for f in listdir(mypath) if isdir(join(mypath, f))]\n",
    "h5filelist = []\n",
    "samplelist = {}"
   ]
  },
  {
   "cell_type": "code",
   "execution_count": 2,
   "metadata": {
    "collapsed": true
   },
   "outputs": [],
   "source": []
  },
  {
   "cell_type": "code",
   "execution_count": 3,
   "metadata": {},
   "outputs": [
    {
     "data": {
      "text/plain": [
       "['AIS #1_G22_1_600x_rbßIVSpec(488)_msNeuN(568)_TOPRO_BC_S23',\n",
       " 'AIS #1_G22_2_600x_rbßIVSpec(488)_msNeuN(568)_TOPRO_BC_S23',\n",
       " 'AIS #1_G22_3_600x_rbßIVSpec(488)_msNeuN(568)_TOPRO_BC_S23',\n",
       " 'AIS #2_G22_1_600x_rbßIVSpec(488)_msNeuN(568)_TOPRO_BC_S23',\n",
       " 'AIS #2_G22_2_600x_rbßIVSpec(488)_msNeuN(568)_TOPRO_BC_S23',\n",
       " 'AIS #2_G22_3_600x_rbßIVSpec(488)_msNeuN(568)_TOPRO_BC_S23',\n",
       " 'AIS #3_G22_1_600x_rbßIVSpec(488)_msNeuN(568)_TOPRO_BC_S23']"
      ]
     },
     "execution_count": 3,
     "metadata": {},
     "output_type": "execute_result"
    }
   ],
   "source": [
    "onlydirs"
   ]
  },
  {
   "cell_type": "code",
   "execution_count": 4,
   "metadata": {
    "collapsed": true
   },
   "outputs": [],
   "source": [
    "for dirpath in onlydirs:\n",
    "    aispath = join(mypath,dirpath)\n",
    "    files = [f for f in listdir(aispath) if isfile(join(aispath, f))]\n",
    "    h5files = [join(aispath,f) for f in files if f.endswith(\".h5\")]\n",
    "    h5filelist += h5files"
   ]
  },
  {
   "cell_type": "code",
   "execution_count": 5,
   "metadata": {},
   "outputs": [
    {
     "data": {
      "text/plain": [
       "['Nora\\\\AIS #1_G22_1_600x_rbßIVSpec(488)_msNeuN(568)_TOPRO_BC_S23\\\\#1_G22_1_600x_rbßIVSpec(488)_msNeuN(568)_TOPRO_BC_S23.h5',\n",
       " 'Nora\\\\AIS #1_G22_2_600x_rbßIVSpec(488)_msNeuN(568)_TOPRO_BC_S23\\\\#1_G22_2_600x_rbßIVSpec(488)_msNeuN(568)_TOPRO_BC_S23.h5',\n",
       " 'Nora\\\\AIS #1_G22_3_600x_rbßIVSpec(488)_msNeuN(568)_TOPRO_BC_S23\\\\#1_G22_3_600x_rbßIVSpec(488)_msNeuN(568)_TOPRO_BC_S23.h5',\n",
       " 'Nora\\\\AIS #2_G22_1_600x_rbßIVSpec(488)_msNeuN(568)_TOPRO_BC_S23\\\\#2_G22_1_600x_rbßIVSpec(488)_msNeuN(568)_TOPRO_BC_S23.h5',\n",
       " 'Nora\\\\AIS #2_G22_2_600x_rbßIVSpec(488)_msNeuN(568)_TOPRO_BC_S23\\\\#2_G22_2_600x_rbßIVSpec(488)_msNeuN(568)_TOPRO_BC_S23.h5',\n",
       " 'Nora\\\\AIS #2_G22_3_600x_rbßIVSpec(488)_msNeuN(568)_TOPRO_BC_S23\\\\#2_G22_3_600x_rbßIVSpec(488)_msNeuN(568)_TOPRO_BC_S23.h5',\n",
       " 'Nora\\\\AIS #3_G22_1_600x_rbßIVSpec(488)_msNeuN(568)_TOPRO_BC_S23\\\\#3_G22_1_600x_rbßIVSpec(488)_msNeuN(568)_TOPRO_BC_S23.h5']"
      ]
     },
     "execution_count": 5,
     "metadata": {},
     "output_type": "execute_result"
    }
   ],
   "source": [
    "h5filelist"
   ]
  },
  {
   "cell_type": "code",
   "execution_count": 7,
   "metadata": {},
   "outputs": [
    {
     "name": "stdout",
     "output_type": "stream",
     "text": [
      "#1_G22_1_600x_rbßIVSpec(488)_msNeuN(568)_TOPRO_BC_S23.nd2 (series 1)    24.9737060389   3.57414840408\n",
      "#1_G22_2_600x_rbßIVSpec(488)_msNeuN(568)_TOPRO_BC_S23.nd2 (series 1)    23.0317739589   3.88866201892\n",
      "#1_G22_3_600x_rbßIVSpec(488)_msNeuN(568)_TOPRO_BC_S23.nd2 (series 1)    24.7800144682   4.51747114272\n",
      "#2_G22_1_600x_rbßIVSpec(488)_msNeuN(568)_TOPRO_BC_S23.nd2 (series 1)    26.221699409   4.0199314738\n",
      "#2_G22_2_600x_rbßIVSpec(488)_msNeuN(568)_TOPRO_BC_S23.nd2 (series 1)    24.4670981311   3.91313452211\n",
      "#2_G22_3_600x_rbßIVSpec(488)_msNeuN(568)_TOPRO_BC_S23.nd2 (series 1)    25.4425422579   3.9756850952\n",
      "#3_G22_1_600x_rbßIVSpec(488)_msNeuN(568)_TOPRO_BC_S23.nd2 (series 1)    28.4401346284   4.2638411247\n"
     ]
    }
   ],
   "source": [
    "for h5file in h5filelist:\n",
    "    if h5py.is_hdf5(h5file):\n",
    "        lala = h5py.File(h5file,\"r\")\n",
    "        \n",
    "        try:\n",
    "            rois = [key for key in lala[\"Data\"].keys()]\n",
    "            lengths = []\n",
    "            for roi in rois:\n",
    "                length = lala[\"Data/\"+roi+\"/Physical\"].attrs[\"AISPhysicalLength\"]\n",
    "                #length = lala[\"Data/\"+roi+\"/Pixeldata\"].attrs[\"AISend\"] - lala[\"Data/\"+roi+\"/Pixeldata\"].attrs[\"AISstart\"]\n",
    "                lengths.append(length)\n",
    "        \n",
    "            lengths = np.array(lengths)\n",
    "            seriesname = lala.attrs[\"seriesname\"].split(\"_\")[0]\n",
    "            samplelist[seriesname] = np.append(samplelist.get(seriesname,np.array([])),lengths)\n",
    "            print(lala.attrs[\"seriesname\"] + \"    \" +str(lengths.mean()) + \"   \" + str(np.std(lengths)))\n",
    "        except KeyError as e :\n",
    "            print(\"File {0} doesnt hava data Object: {1}\".format(h5file,e))\n",
    "            pass\n",
    "        \n",
    "    else:\n",
    "        print(\"File \" + h5file + \" doesn't conform with h5 standards\")\n",
    "        pass"
   ]
  },
  {
   "cell_type": "code",
   "execution_count": 8,
   "metadata": {},
   "outputs": [
    {
     "name": "stdout",
     "output_type": "stream",
     "text": [
      "Sample: #3  Mean: 14575.568997034308 Std: 14871.136537719378 AIS: 56\n",
      "Sample: #1  Mean: 12486.606335263721 Std: 12809.203425470621 AIS: 200\n",
      "Sample: #2  Mean: 13000.005579119806 Std: 13298.14244060667 AIS: 184\n"
     ]
    }
   ],
   "source": [
    "for key,value in samplelist.items():\n",
    "    print(\"Sample: {0}  Mean: {1} Std: {2} AIS: {3}\".format(key,value.mean(),np.std(value),len(value)))"
   ]
  },
  {
   "cell_type": "code",
   "execution_count": 22,
   "metadata": {
    "collapsed": true
   },
   "outputs": [],
   "source": [
    "from scipy.stats import ttest_ind, ttest_rel\n",
    "\n",
    "t, p = ttest_ind(samplelist[\"TM349\"],samplelist[\"TM340\"])"
   ]
  },
  {
   "cell_type": "code",
   "execution_count": 24,
   "metadata": {
    "collapsed": true
   },
   "outputs": [],
   "source": [
    "pvalue = \"{0:.10f}\".format(p)\n",
    "tvalue = \"{0:.10f}\".format(t)"
   ]
  },
  {
   "cell_type": "code",
   "execution_count": 14,
   "metadata": {},
   "outputs": [
    {
     "data": {
      "text/plain": [
       "40"
      ]
     },
     "execution_count": 14,
     "metadata": {},
     "output_type": "execute_result"
    }
   ],
   "source": [
    "samplelist[\"TM340\"].size"
   ]
  },
  {
   "cell_type": "code",
   "execution_count": 25,
   "metadata": {},
   "outputs": [
    {
     "name": "stdout",
     "output_type": "stream",
     "text": [
      "T-Wert: 4.8303691249 P-Wert: 0.0000021309\n"
     ]
    }
   ],
   "source": [
    "print(\"T-Wert: {0} P-Wert: {1}\".format(tvalue,pvalue))"
   ]
  }
 ],
 "metadata": {
  "kernelspec": {
   "display_name": "Python 3",
   "language": "python",
   "name": "python3"
  },
  "language_info": {
   "codemirror_mode": {
    "name": "ipython",
    "version": 3
   },
   "file_extension": ".py",
   "mimetype": "text/x-python",
   "name": "python",
   "nbconvert_exporter": "python",
   "pygments_lexer": "ipython3",
   "version": "3.5.3"
  }
 },
 "nbformat": 4,
 "nbformat_minor": 1
}
