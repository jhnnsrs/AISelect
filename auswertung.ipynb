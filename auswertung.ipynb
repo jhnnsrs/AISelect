{
 "cells": [
  {
   "cell_type": "code",
   "execution_count": 2,
   "metadata": {},
   "outputs": [],
   "source": [
    "import h5py\n",
    "from os import listdir\n",
    "from os.path import isfile, join, isdir\n",
    "import numpy as np"
   ]
  },
  {
   "cell_type": "code",
   "execution_count": 5,
   "metadata": {
    "collapsed": true
   },
   "outputs": [],
   "source": [
    "mypath = \"Data 2\"\n",
    "onlydirs = [f for f in listdir(mypath) if isdir(join(mypath, f))]\n",
    "h5filelist = []\n",
    "samplelist = {}"
   ]
  },
  {
   "cell_type": "code",
   "execution_count": 6,
   "metadata": {},
   "outputs": [
    {
     "data": {
      "text/plain": [
       "['AIS M1 development_p15_layer II-III_rb-betaIVSpectrin-488_gpNeuN-568_DAPI-405_630x_2-3-2-11',\n 'AIS M1 development_p15_layer II-III_rb-betaIVSpectrin-488_gpNeuN-568_DAPI-405_630x_2-3-2-16',\n 'AIS M1 development_p15_layer II-III_rb-betaIVSpectrin-488_gpNeuN-568_DAPI-405_630x_2-3-2-21',\n 'AIS M1 development_p15_layer II-III_rb-betaIVSpectrin-488_gpNeuN-568_DAPI-405_630x_2-3-2-26',\n 'AIS M1 development_p15_layer II-III_rb-betaIVSpectrin-488_gpNeuN-568_DAPI-405_630x_2-3-2-6']"
      ]
     },
     "execution_count": 6,
     "metadata": {},
     "output_type": "execute_result"
    }
   ],
   "source": [
    "onlydirs"
   ]
  },
  {
   "cell_type": "code",
   "execution_count": 7,
   "metadata": {
    "collapsed": true
   },
   "outputs": [],
   "source": [
    "for dirpath in onlydirs:\n",
    "    aispath = join(mypath,dirpath)\n",
    "    files = [f for f in listdir(aispath) if isfile(join(aispath, f))]\n",
    "    h5files = [join(aispath,f) for f in files if f.endswith(\".h5\")]\n",
    "    h5filelist += h5files"
   ]
  },
  {
   "cell_type": "code",
   "execution_count": 8,
   "metadata": {},
   "outputs": [
    {
     "data": {
      "text/plain": [
       "['Data 2\\\\AIS M1 development_p15_layer II-III_rb-betaIVSpectrin-488_gpNeuN-568_DAPI-405_630x_2-3-2-11\\\\M1 development_p15_layer II-III_rb-betaIVSpectrin-488_gpNeuN-568_DAPI-405_630x_2-3-2-11.h5',\n 'Data 2\\\\AIS M1 development_p15_layer II-III_rb-betaIVSpectrin-488_gpNeuN-568_DAPI-405_630x_2-3-2-16\\\\M1 development_p15_layer II-III_rb-betaIVSpectrin-488_gpNeuN-568_DAPI-405_630x_2-3-2-16.h5',\n 'Data 2\\\\AIS M1 development_p15_layer II-III_rb-betaIVSpectrin-488_gpNeuN-568_DAPI-405_630x_2-3-2-21\\\\M1 development_p15_layer II-III_rb-betaIVSpectrin-488_gpNeuN-568_DAPI-405_630x_2-3-2-21.h5',\n 'Data 2\\\\AIS M1 development_p15_layer II-III_rb-betaIVSpectrin-488_gpNeuN-568_DAPI-405_630x_2-3-2-26\\\\M1 development_p15_layer II-III_rb-betaIVSpectrin-488_gpNeuN-568_DAPI-405_630x_2-3-2-26.h5',\n 'Data 2\\\\AIS M1 development_p15_layer II-III_rb-betaIVSpectrin-488_gpNeuN-568_DAPI-405_630x_2-3-2-6\\\\M1 development_p15_layer II-III_rb-betaIVSpectrin-488_gpNeuN-568_DAPI-405_630x_2-3-2-6.h5']"
      ]
     },
     "execution_count": 8,
     "metadata": {},
     "output_type": "execute_result"
    }
   ],
   "source": [
    "h5filelist"
   ]
  },
  {
   "cell_type": "code",
   "execution_count": 9,
   "metadata": {
    "collapsed": true
   },
   "outputs": [
    {
     "name": "stdout",
     "output_type": "stream",
     "text": [
      "M1 development_p15_layer II-III_rb-betaIVSpectrin-488_gpNeuN-568_DAPI-405_630x_2-3-2-11    0.0195209474409   0.0062739260402\nM1 development_p15_layer II-III_rb-betaIVSpectrin-488_gpNeuN-568_DAPI-405_630x_2-3-2-16    0.027498780682   0.00892951149499\nM1 development_p15_layer II-III_rb-betaIVSpectrin-488_gpNeuN-568_DAPI-405_630x_2-3-2-21    0.0224701181265   0.00692341838094\nM1 development_p15_layer II-III_rb-betaIVSpectrin-488_gpNeuN-568_DAPI-405_630x_2-3-2-26    0.0248857920198   0.00630661631806\nM1 development_p15_layer II-III_rb-betaIVSpectrin-488_gpNeuN-568_DAPI-405_630x_2-3-2-6    0.016435395353   0.00421304637229\n"
     ]
    }
   ],
   "source": [
    "for h5file in h5filelist:\n",
    "    if h5py.is_hdf5(h5file):\n",
    "        lala = h5py.File(h5file,\"r\")\n",
    "        \n",
    "        try:\n",
    "            rois = [key for key in lala[\"Data\"].keys()]\n",
    "            lengths = []\n",
    "            for roi in rois:\n",
    "                length = lala[\"Data/\"+roi+\"/Physical\"].attrs[\"AISPhysicalLength\"]\n",
    "                #length = lala[\"Data/\"+roi+\"/Pixeldata\"].attrs[\"AISend\"] - lala[\"Data/\"+roi+\"/Pixeldata\"].attrs[\"AISstart\"]\n",
    "                lengths.append(length)\n",
    "        \n",
    "            lengths = np.array(lengths)\n",
    "            seriesname = lala.attrs[\"seriesname\"].split(\"_\")[0]\n",
    "            samplelist[seriesname] = np.append(samplelist.get(seriesname,np.array([])),lengths)\n",
    "            print(lala.attrs[\"seriesname\"] + \"    \" +str(lengths.mean()) + \"   \" + str(np.std(lengths)))\n",
    "        except KeyError as e :\n",
    "            print(\"File {0} doesnt hava data Object: {1}\".format(h5file,e))\n",
    "            pass\n",
    "        \n",
    "    else:\n",
    "        print(\"File \" + h5file + \" doesn't conform with h5 standards\")\n",
    "        pass"
   ]
  },
  {
   "cell_type": "code",
   "execution_count": 10,
   "metadata": {
    "collapsed": false
   },
   "outputs": [
    {
     "name": "stdout",
     "output_type": "stream",
     "text": [
      "Sample: M1 development  Mean: 0.022370536933573614 Std: 0.007744414369454423 AIS: 150\n"
     ]
    }
   ],
   "source": [
    "for key,value in samplelist.items():\n",
    "    print(\"Sample: {0}  Mean: {1} Std: {2} AIS: {3}\".format(key,value.mean(),np.std(value),len(value)))"
   ]
  },
  {
   "cell_type": "code",
   "execution_count": 22,
   "metadata": {
    "collapsed": true
   },
   "outputs": [],
   "source": [
    "from scipy.stats import ttest_ind, ttest_rel\n",
    "\n",
    "t, p = ttest_ind(samplelist[\"TM349\"],samplelist[\"TM340\"])"
   ]
  },
  {
   "cell_type": "code",
   "execution_count": 24,
   "metadata": {
    "collapsed": true
   },
   "outputs": [],
   "source": [
    "pvalue = \"{0:.10f}\".format(p)\n",
    "tvalue = \"{0:.10f}\".format(t)"
   ]
  },
  {
   "cell_type": "code",
   "execution_count": 14,
   "metadata": {},
   "outputs": [
    {
     "data": {
      "text/plain": [
       "40"
      ]
     },
     "execution_count": 14,
     "metadata": {},
     "output_type": "execute_result"
    }
   ],
   "source": [
    "samplelist[\"TM340\"].size"
   ]
  },
  {
   "cell_type": "code",
   "execution_count": 25,
   "metadata": {},
   "outputs": [
    {
     "name": "stdout",
     "output_type": "stream",
     "text": [
      "T-Wert: 4.8303691249 P-Wert: 0.0000021309\n"
     ]
    }
   ],
   "source": [
    "print(\"T-Wert: {0} P-Wert: {1}\".format(tvalue,pvalue))"
   ]
  }
 ],
 "metadata": {
  "kernelspec": {
   "display_name": "Python 3",
   "language": "python",
   "name": "python3"
  },
  "language_info": {
   "codemirror_mode": {
    "name": "ipython",
    "version": 3.0
   },
   "file_extension": ".py",
   "mimetype": "text/x-python",
   "name": "python",
   "nbconvert_exporter": "python",
   "pygments_lexer": "ipython3",
   "version": "3.5.3"
  }
 },
 "nbformat": 4,
 "nbformat_minor": 0
}