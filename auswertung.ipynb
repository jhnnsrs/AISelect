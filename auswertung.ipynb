{
 "cells": [
  {
   "cell_type": "code",
   "execution_count": 2,
   "metadata": {
    "collapsed": true
   },
   "outputs": [],
   "source": [
    "#  This file is part of AISelect.\n",
    "\n",
    "#  AISelect is free software: you can redistribute it and/or modify\n",
    "#  it under the terms of the GNU General Public License as published by\n",
    "#  the Free Software Foundation, either version 3 of the License, or\n",
    "#  (at your option) any later version.\n",
    "\n",
    "#  AISelect is distributed in the hope that it will be useful,\n",
    "#  but WITHOUT ANY WARRANTY; without even the implied warranty of\n",
    "#  MERCHANTABILITY or FITNESS FOR A PARTICULAR PURPOSE.  See the\n",
    "#  GNU General Public License for more details.\n",
    "#\n",
    "#  You should have received a copy of the GNU General Public License\n",
    "#  along with AISelect.  If not, see <http://www.gnu.org/licenses/>.\n",
    "\n",
    "\n",
    "mypath = \".\"\n",
    "\n",
    "import h5py\n",
    "import os\n",
    "from os import listdir\n",
    "from os.path import isfile, join, isdir\n",
    "import numpy as np\n",
    "from openpyxl import Workbook\n",
    "import datetime\n",
    "today = datetime.date.today()\n",
    "\n",
    "onlydirs = [f for f in listdir(mypath) if isdir(join(mypath, f))]\n",
    "h5filelist = []\n",
    "samplelist = {}"
   ]
  },
  {
   "cell_type": "code",
   "execution_count": 3,
   "metadata": {
    "collapsed": false
   },
   "outputs": [
    {
     "data": {
      "text/plain": [
       "['.android',\n '.AndroidStudio2.1',\n '.AndroidStudio2.2',\n '.astropy',\n '.aws',\n '.cisco',\n '.conda',\n '.config',\n '.credentials',\n '.gem',\n '.gissjava',\n '.gradle',\n '.idlerc',\n '.imagej',\n '.IntelliJIdea2017.1',\n '.ipynb_checkpoints',\n '.ipython',\n '.jupyter',\n '.keras',\n '.lazyflow',\n '.matplotlib',\n '.openshift',\n '.oracle_jre_usage',\n '.PyCharm2017.1',\n '.PyCharm2017.2',\n '.ssh',\n '.VirtualBox',\n '.vscode',\n '.WebStorm2017.1',\n '.WebStorm2017.2',\n '3D Objects',\n 'AISelect',\n 'Anaconda3',\n 'Anwendungsdaten',\n 'AppData',\n 'Bibliothek',\n 'Contacts',\n 'Cookies',\n 'Creative',\n 'Desktop',\n 'Development',\n 'Documents',\n 'Downloads',\n 'Druckumgebung',\n 'Eigene Dateien',\n 'Favorites',\n 'Google Drive',\n 'IntelGraphicsProfiles',\n 'Links',\n 'Literatur',\n 'Lokale Einstellungen',\n 'Music',\n 'My Cloud',\n 'Netzwerkumgebung',\n 'OneDrive',\n 'Pictures',\n 'Programme',\n 'PycharmProjects',\n 'Recent',\n 'Saved Games',\n 'Searches',\n 'SendTo',\n 'Startmenü',\n 'Tracing',\n 'Videos',\n 'Vorlagen']"
      ]
     },
     "execution_count": 3,
     "metadata": {},
     "output_type": "execute_result"
    }
   ],
   "source": [
    "onlydirs"
   ]
  },
  {
   "cell_type": "code",
   "execution_count": 51,
   "metadata": {
    "collapsed": true
   },
   "outputs": [],
   "source": [
    "for dirpath in onlydirs:\n",
    "    aispath = join(mypath,dirpath)\n",
    "    files = [f for f in listdir(aispath) if isfile(join(aispath, f))]\n",
    "    h5files = [join(aispath,f) for f in files if f.endswith(\".h5\")]\n",
    "    h5filelist += h5files"
   ]
  },
  {
   "cell_type": "code",
   "execution_count": 42,
   "metadata": {
    "collapsed": false
   },
   "outputs": [
    {
     "data": {
      "text/plain": [
       "['.\\\\AIS 1HC_Cor-12_b4Spec-gpNeuN-Topro_600x_CA1-Pyramid_Loc-2\\\\1HC_Cor-12_b4Spec-gpNeuN-Topro_600x_CA1-Pyramid_Loc-2.h5',\n",
       " '.\\\\AIS 1HC_Cor-16_b4Spec-gpNeuN-Topro_600x_CA1-Pyramid_Loc-1\\\\1HC_Cor-16_b4Spec-gpNeuN-Topro_600x_CA1-Pyramid_Loc-1.h5',\n",
       " '.\\\\AIS 1HC_Cor-16_b4Spec-gpNeuN-Topro_600x_CA1-Pyramid_Loc-2\\\\1HC_Cor-16_b4Spec-gpNeuN-Topro_600x_CA1-Pyramid_Loc-2.h5',\n",
       " '.\\\\AIS 1HC_Cor-23_b4Spec-gpNeuN-Topro_600x_CA1-Pyramid_Loc-1\\\\1HC_Cor-23_b4Spec-gpNeuN-Topro_600x_CA1-Pyramid_Loc-1.h5',\n",
       " '.\\\\AIS 1HC_Cor-23_b4Spec-gpNeuN-Topro_600x_CA1-Pyramid_Loc-2\\\\1HC_Cor-23_b4Spec-gpNeuN-Topro_600x_CA1-Pyramid_Loc-2.h5',\n",
       " '.\\\\AIS 2HC_Cor-19_b4Spec-gpNeuN-Topro_600x_CA1-Pyramid_Loc-1\\\\2HC_Cor-19_b4Spec-gpNeuN-Topro_600x_CA1-Pyramid_Loc-1.h5',\n",
       " '.\\\\AIS 2HC_Cor-19_b4Spec-gpNeuN-Topro_600x_CA1-Pyramid_Loc-2\\\\2HC_Cor-19_b4Spec-gpNeuN-Topro_600x_CA1-Pyramid_Loc-2.h5',\n",
       " '.\\\\AIS 2HC_Cor-24_b4Spec-gpNeuN-Topro_600x_CA1-Pyramid_Loc-1\\\\2HC_Cor-24_b4Spec-gpNeuN-Topro_600x_CA1-Pyramid_Loc-1.h5',\n",
       " '.\\\\AIS 2HC_Cor-24_b4Spec-gpNeuN-Topro_600x_CA1-Pyramid_Loc-2\\\\2HC_Cor-24_b4Spec-gpNeuN-Topro_600x_CA1-Pyramid_Loc-2.h5',\n",
       " '.\\\\AIS 2HC_Cor-27_b4Spec-gpNeuN-Topro_600x_CA1-Pyramid_Loc-1\\\\2HC_Cor-27_b4Spec-gpNeuN-Topro_600x_CA1-Pyramid_Loc-1.h5',\n",
       " '.\\\\AIS 2HC_Cor-27_b4Spec-gpNeuN-Topro_600x_CA1-Pyramid_Loc-2\\\\2HC_Cor-27_b4Spec-gpNeuN-Topro_600x_CA1-Pyramid_Loc-2.h5',\n",
       " '.\\\\AIS 2HC_Cor-29_b4Spec-gpNeuN-Topro_600x_CA1-Pyramid_Loc-1\\\\2HC_Cor-29_b4Spec-gpNeuN-Topro_600x_CA1-Pyramid_Loc-1.h5',\n",
       " '.\\\\AIS 2HC_Cor-29_b4Spec-gpNeuN-Topro_600x_CA1-Pyramid_Loc-2\\\\2HC_Cor-29_b4Spec-gpNeuN-Topro_600x_CA1-Pyramid_Loc-2.h5']"
      ]
     },
     "execution_count": 42,
     "metadata": {},
     "output_type": "execute_result"
    }
   ],
   "source": [
    "h5filelist"
   ]
  },
  {
   "cell_type": "code",
   "execution_count": 57,
   "metadata": {
    "collapsed": false
   },
   "outputs": [
    {
     "name": "stdout",
     "output_type": "stream",
     "text": [
      "1HC_Cor-12_b4Spec-gpNeuN-Topro_600x_CA1-Pyramid_Loc-2.nd2 (series 1)    27.4487251486   7.56134692773\n",
      "1HC_Cor-16_b4Spec-gpNeuN-Topro_600x_CA1-Pyramid_Loc-1.nd2 (series 1)    21.7518199291   6.00764550422\n",
      "1HC_Cor-16_b4Spec-gpNeuN-Topro_600x_CA1-Pyramid_Loc-2.nd2 (series 1)    20.819599075   2.77354925226\n",
      "1HC_Cor-23_b4Spec-gpNeuN-Topro_600x_CA1-Pyramid_Loc-1.nd2 (series 1)    24.9184114017   7.41135192334\n",
      "1HC_Cor-23_b4Spec-gpNeuN-Topro_600x_CA1-Pyramid_Loc-2.nd2 (series 1)    25.0249509279   3.05980579433\n",
      "2HC_Cor-19_b4Spec-gpNeuN-Topro_600x_CA1-Pyramid_Loc-1.nd2 (series 1)    25.4392713075   2.88064419218\n",
      "2HC_Cor-19_b4Spec-gpNeuN-Topro_600x_CA1-Pyramid_Loc-2.nd2 (series 1)    22.7358308306   4.1338061921\n",
      "2HC_Cor-24_b4Spec-gpNeuN-Topro_600x_CA1-Pyramid_Loc-1.nd2 (series 1)    21.0474752838   5.99491666989\n",
      "2HC_Cor-24_b4Spec-gpNeuN-Topro_600x_CA1-Pyramid_Loc-2.nd2 (series 1)    22.7185674815   3.74547049038\n",
      "2HC_Cor-27_b4Spec-gpNeuN-Topro_600x_CA1-Pyramid_Loc-1.nd2 (series 1)    24.178553581   1.77763062904\n",
      "2HC_Cor-27_b4Spec-gpNeuN-Topro_600x_CA1-Pyramid_Loc-2.nd2 (series 1)    22.6149873866   4.19026684806\n",
      "2HC_Cor-29_b4Spec-gpNeuN-Topro_600x_CA1-Pyramid_Loc-1.nd2 (series 1)    33.7375166247   7.65366376724\n",
      "2HC_Cor-29_b4Spec-gpNeuN-Topro_600x_CA1-Pyramid_Loc-2.nd2 (series 1)    28.8781304582   5.5842641178\n"
     ]
    }
   ],
   "source": [
    "wb = Workbook()\n",
    "ws = wb.active\n",
    "\n",
    "samplelist = {}\n",
    "ws.append([\"Filename\",\"Median\",\"Standardeviation\"])\n",
    "for h5file in h5filelist:\n",
    "    if h5py.is_hdf5(h5file):\n",
    "        lala = h5py.File(h5file,\"r\")\n",
    "        \n",
    "        try:\n",
    "            rois = [key for key in lala[\"Data\"].keys()]\n",
    "            lengths = []\n",
    "            for roi in rois:\n",
    "                length = lala[\"Data/\"+roi+\"/Physical\"].attrs[\"AISPhysicalLength\"]\n",
    "                # length = lala[\"Data/\"+roi+\"/Pixeldata\"].attrs[\"AISend\"] - lala[\"Data/\"+roi+\"/Pixeldata\"].attrs[\n",
    "                # \"AISstart\"] \n",
    "                lengths.append(length)\n",
    "        \n",
    "            lengths = np.array(lengths)\n",
    "            seriesname = lala.attrs[\"seriesname\"].split(\"_\")[2]\n",
    "            samplelist[seriesname] = np.append(samplelist.get(seriesname,np.array([])),lengths)\n",
    "            print(lala.attrs[\"seriesname\"] + \"    \" +str(lengths.mean()) + \"   \" + str(np.std(lengths)))\n",
    "            ws.append([lala.attrs[\"seriesname\"], str(lengths.mean()), str(np.std(lengths))])\n",
    "        except KeyError as e :\n",
    "            print(\"File {0} doesnt hava data Object: {1}\".format(h5file,e))\n",
    "            pass\n",
    "        \n",
    "    else:\n",
    "        print(\"File \" + h5file + \" doesn't conform with h5 standards\")\n",
    "        pass"
   ]
  },
  {
   "cell_type": "code",
   "execution_count": 58,
   "metadata": {
    "collapsed": false
   },
   "outputs": [
    {
     "name": "stdout",
     "output_type": "stream",
     "text": [
      "Sample: b4Spec-gpNeuN-Topro  Mean: 25.279547798873704 Std: 6.388900841965078 AIS: 69\n"
     ]
    }
   ],
   "source": [
    "ws.append([\"\",\"\",\"\"])\n",
    "ws.append([\"Sample\", \"Mean\", \"Std\", \"N Ais\"])\n",
    "for key,value in samplelist.items():\n",
    "    print(\"Sample: {0}  Mean: {1} Std: {2} AIS: {3}\".format(key,value.mean(),np.std(value),len(value)))\n",
    "    ws.append([key,value.mean(),np.std(value),len(value)])\n",
    "    \n",
    "\n",
    "filepath = os.path.join(mypath, \"Auswertung \"  + today.strftime(\"%Y-%m-%d %H:%M \") + \".xls\")\n",
    "wb.save(filepath)"
   ]
  },
  {
   "cell_type": "code",
   "execution_count": 54,
   "metadata": {
    "collapsed": false
   },
   "outputs": [
    {
     "data": {
      "text/plain": [
       "'.\\\\Auswertung 2017-08-29 00:00 .xls'"
      ]
     },
     "execution_count": 54,
     "metadata": {},
     "output_type": "execute_result"
    }
   ],
   "source": [
    "filepath"
   ]
  },
  {
   "cell_type": "code",
   "execution_count": 22,
   "metadata": {
    "collapsed": true
   },
   "outputs": [],
   "source": [
    "from scipy.stats import ttest_ind, ttest_rel\n",
    "\n",
    "t, p = ttest_ind(samplelist[\"TM349\"],samplelist[\"TM340\"])"
   ]
  },
  {
   "cell_type": "code",
   "execution_count": 24,
   "metadata": {
    "collapsed": true
   },
   "outputs": [],
   "source": [
    "pvalue = \"{0:.10f}\".format(p)\n",
    "tvalue = \"{0:.10f}\".format(t)"
   ]
  },
  {
   "cell_type": "code",
   "execution_count": 14,
   "metadata": {
    "collapsed": false
   },
   "outputs": [
    {
     "data": {
      "text/plain": [
       "40"
      ]
     },
     "execution_count": 14,
     "metadata": {},
     "output_type": "execute_result"
    }
   ],
   "source": [
    "\n",
    "for data in Global.datalist:\n",
    "        face_file_name = \"AIS \" + \"{0:0=3}\".format(data.index) + \".jpg\"\n",
    "        pixellength = data.aislength\n",
    "        physicallength = data.aisphysicallength\n",
    "        picturelength = data.piclength\n",
    "        vectorlength = data.vectorlength\n",
    "        ws.append([face_file_name, pixellength, physicallength,picturelength,vectorlength,picturelength/vectorlength])\n",
    "\n",
    "\n",
    "# Save the file\n",
    "filepath = os.path.join(Global.dirname, \"AIS lengths.xlsx\")\n",
    "wb.save(filepath)"
   ]
  },
  {
   "cell_type": "code",
   "execution_count": 25,
   "metadata": {
    "collapsed": false
   },
   "outputs": [
    {
     "name": "stdout",
     "output_type": "stream",
     "text": [
      "T-Wert: 4.8303691249 P-Wert: 0.0000021309\n"
     ]
    }
   ],
   "source": [
    "print(\"T-Wert: {0} P-Wert: {1}\".format(tvalue,pvalue))"
   ]
  }
 ],
 "metadata": {
  "kernelspec": {
   "display_name": "Python 3",
   "language": "python",
   "name": "python3"
  },
  "language_info": {
   "codemirror_mode": {
    "name": "ipython",
    "version": 3
   },
   "file_extension": ".py",
   "mimetype": "text/x-python",
   "name": "python",
   "nbconvert_exporter": "python",
   "pygments_lexer": "ipython3",
   "version": "3.5.1"
  }
 },
 "nbformat": 4,
 "nbformat_minor": 0
}
