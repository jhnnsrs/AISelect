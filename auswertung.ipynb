{
 "cells": [
  {
   "cell_type": "code",
   "execution_count": 2,
   "metadata": {},
   "outputs": [],
   "source": [
    "import h5py\n",
    "from os import listdir\n",
    "from os.path import isfile, join, isdir\n",
    "import numpy as np"
   ]
  },
  {
   "cell_type": "code",
   "execution_count": 3,
   "metadata": {
    "collapsed": true
   },
   "outputs": [],
   "source": [
    "mypath = \"Data\"\n",
    "onlydirs = [f for f in listdir(mypath) if isdir(join(mypath, f))]\n",
    "h5filelist = []\n",
    "samplelist = {}"
   ]
  },
  {
   "cell_type": "code",
   "execution_count": 4,
   "metadata": {},
   "outputs": [
    {
     "data": {
      "text/plain": [
       "['AIS TM349_1 x60-1MaxPrj Series TM349_1 x60-1MaxPrj.tif',\n 'AIS TM349_1 x60-2MaxPrj Series TM349_1 x60-2MaxPrj.tif',\n 'AIS TM349_3 x60-1MaxPrj Series TM349_3 x60-1MaxPrj.tif',\n 'AIS TM349_3 x60-2MaxPrj Series TM349_3 x60-2MaxPrj.tif',\n 'AIS TM349_7 x60-2MaxPrj Series TM349_7 x60-2MaxPrj.tif',\n 'AIS TM349_7 x60-3MaxPrj Series TM349_7 x60-3MaxPrj.tif',\n 'AIS TM349_7 x60-4MaxPrj Series TM349_7 x60-4MaxPrj.tif']"
      ]
     },
     "execution_count": 4,
     "metadata": {},
     "output_type": "execute_result"
    }
   ],
   "source": [
    "onlydirs"
   ]
  },
  {
   "cell_type": "code",
   "execution_count": 5,
   "metadata": {
    "collapsed": true
   },
   "outputs": [],
   "source": [
    "for dirpath in onlydirs:\n",
    "    aispath = join(mypath,dirpath)\n",
    "    files = [f for f in listdir(aispath) if isfile(join(aispath, f))]\n",
    "    h5files = [join(aispath,f) for f in files if f.endswith(\".h5\")]\n",
    "    h5filelist += h5files"
   ]
  },
  {
   "cell_type": "code",
   "execution_count": 6,
   "metadata": {},
   "outputs": [
    {
     "data": {
      "text/plain": [
       "['Data\\\\AIS TM349_1 x60-1MaxPrj Series TM349_1 x60-1MaxPrj.tif\\\\TM349_1 x60-1MaxPrj.h5',\n 'Data\\\\AIS TM349_1 x60-2MaxPrj Series TM349_1 x60-2MaxPrj.tif\\\\TM349_1 x60-2MaxPrj.h5',\n 'Data\\\\AIS TM349_3 x60-1MaxPrj Series TM349_3 x60-1MaxPrj.tif\\\\TM349_3 x60-1MaxPrj.h5',\n 'Data\\\\AIS TM349_3 x60-2MaxPrj Series TM349_3 x60-2MaxPrj.tif\\\\TM349_3 x60-2MaxPrj.h5',\n 'Data\\\\AIS TM349_7 x60-2MaxPrj Series TM349_7 x60-2MaxPrj.tif\\\\TM349_7 x60-2MaxPrj.h5',\n 'Data\\\\AIS TM349_7 x60-3MaxPrj Series TM349_7 x60-3MaxPrj.tif\\\\TM349_7 x60-3MaxPrj.h5',\n 'Data\\\\AIS TM349_7 x60-4MaxPrj Series TM349_7 x60-4MaxPrj.tif\\\\TM349_7 x60-4MaxPrj.h5']"
      ]
     },
     "execution_count": 6,
     "metadata": {},
     "output_type": "execute_result"
    }
   ],
   "source": [
    "h5filelist"
   ]
  },
  {
   "cell_type": "code",
   "execution_count": 8,
   "metadata": {
    "collapsed": true
   },
   "outputs": [
    {
     "name": "stdout",
     "output_type": "stream",
     "text": [
      "TM349_1 x60-1MaxPrj.tif    32.8410328778   11.2877844812\nTM349_1 x60-2MaxPrj.tif    42.1842326777   14.5757373694\nTM349_3 x60-1MaxPrj.tif    40.8233375421   10.9488648385\nFile Data\\AIS TM349_3 x60-2MaxPrj Series TM349_3 x60-2MaxPrj.tif\\TM349_3 x60-2MaxPrj.h5 doesnt hava data Object: \"Unable to open object (Object 'data' doesn't exist)\"\nFile Data\\AIS TM349_7 x60-2MaxPrj Series TM349_7 x60-2MaxPrj.tif\\TM349_7 x60-2MaxPrj.h5 doesnt hava data Object: \"Unable to open object (Object 'data' doesn't exist)\"\nTM349_7 x60-3MaxPrj.tif    40.5393781566   9.60877796342\nFile Data\\AIS TM349_7 x60-4MaxPrj Series TM349_7 x60-4MaxPrj.tif\\TM349_7 x60-4MaxPrj.h5 doesnt hava data Object: \"Unable to open object (Object 'data' doesn't exist)\"\n"
     ]
    }
   ],
   "source": [
    "for h5file in h5filelist:\n",
    "    if h5py.is_hdf5(h5file):\n",
    "        lala = h5py.File(h5file,\"r\")\n",
    "        \n",
    "        try:\n",
    "            rois = [key for key in lala[\"Data\"].keys()]\n",
    "            lengths = []\n",
    "            for roi in rois:\n",
    "                length = lala[\"Data/\"+roi+\"/Physical\"].attrs[\"AISPhysicalLength\"]\n",
    "                #length = lala[\"Data/\"+roi+\"/Pixeldata\"].attrs[\"AISend\"] - lala[\"Data/\"+roi+\"/Pixeldata\"].attrs[\"AISstart\"]\n",
    "                lengths.append(length)\n",
    "        \n",
    "            lengths = np.array(lengths)\n",
    "            seriesname = lala.attrs[\"seriesname\"].split(\"_\")[0]\n",
    "            samplelist[seriesname] = np.append(samplelist.get(seriesname,np.array([])),lengths)\n",
    "            print(lala.attrs[\"seriesname\"] + \"    \" +str(lengths.mean()) + \"   \" + str(np.std(lengths)))\n",
    "        except KeyError as e :\n",
    "            print(\"File {0} doesnt hava data Object: {1}\".format(h5file,e))\n",
    "            pass\n",
    "        \n",
    "    else:\n",
    "        print(\"File \" + h5file + \" doesn't conform with h5 standards\")\n",
    "        pass"
   ]
  },
  {
   "cell_type": "code",
   "execution_count": 9,
   "metadata": {},
   "outputs": [
    {
     "name": "stdout",
     "output_type": "stream",
     "text": [
      "Sample: TM349  Mean: 39.53063241106719 Std: 11.88780422120778 AIS: 184\n"
     ]
    }
   ],
   "source": [
    "for key,value in samplelist.items():\n",
    "    print(\"Sample: {0}  Mean: {1} Std: {2} AIS: {3}\".format(key,value.mean(),np.std(value),len(value)))"
   ]
  },
  {
   "cell_type": "code",
   "execution_count": 22,
   "metadata": {
    "collapsed": true
   },
   "outputs": [],
   "source": [
    "from scipy.stats import ttest_ind, ttest_rel\n",
    "\n",
    "t, p = ttest_ind(samplelist[\"TM349\"],samplelist[\"TM340\"])"
   ]
  },
  {
   "cell_type": "code",
   "execution_count": 24,
   "metadata": {
    "collapsed": true
   },
   "outputs": [],
   "source": [
    "pvalue = \"{0:.10f}\".format(p)\n",
    "tvalue = \"{0:.10f}\".format(t)"
   ]
  },
  {
   "cell_type": "code",
   "execution_count": 14,
   "metadata": {},
   "outputs": [
    {
     "data": {
      "text/plain": [
       "40"
      ]
     },
     "execution_count": 14,
     "metadata": {},
     "output_type": "execute_result"
    }
   ],
   "source": [
    "samplelist[\"TM340\"].size"
   ]
  },
  {
   "cell_type": "code",
   "execution_count": 25,
   "metadata": {},
   "outputs": [
    {
     "name": "stdout",
     "output_type": "stream",
     "text": [
      "T-Wert: 4.8303691249 P-Wert: 0.0000021309\n"
     ]
    }
   ],
   "source": [
    "print(\"T-Wert: {0} P-Wert: {1}\".format(tvalue,pvalue))"
   ]
  }
 ],
 "metadata": {
  "kernelspec": {
   "display_name": "Python 3",
   "language": "python",
   "name": "python3"
  },
  "language_info": {
   "codemirror_mode": {
    "name": "ipython",
    "version": 3.0
   },
   "file_extension": ".py",
   "mimetype": "text/x-python",
   "name": "python",
   "nbconvert_exporter": "python",
   "pygments_lexer": "ipython3",
   "version": "3.5.3"
  }
 },
 "nbformat": 4,
 "nbformat_minor": 0
}