{
 "cells": [
  {
   "cell_type": "code",
   "execution_count": 2,
   "metadata": {
    "collapsed": true
   },
   "outputs": [],
   "source": [
    "from bioimage import BioImageFile"
   ]
  },
  {
   "cell_type": "code",
   "execution_count": 3,
   "metadata": {
    "collapsed": false
   },
   "outputs": [
    {
     "name": "stdout",
     "output_type": "stream",
     "text": [
      "1\n1\n"
     ]
    }
   ],
   "source": [
    "f = BioImageFile(\"test.nd2\").run()"
   ]
  },
  {
   "cell_type": "code",
   "execution_count": 5,
   "metadata": {},
   "outputs": [
    {
     "data": {
      "text/plain": [
       "[<Image ID=\"Image:0\" Name=\"test.nd2 (series 1)\"><InstrumentRef ID=\"Instrument:0\"/><ObjectiveSettings ID=\"Objective:0:0\" RefractiveIndex=\"1.515\"/><Pixels BigEndian=\"false\" DimensionOrder=\"XYCZT\" ID=\"Pixels:0\" Interleaved=\"false\" PhysicalSizeX=\"0.2071601898007465\" PhysicalSizeXUnit=\"µm\" PhysicalSizeY=\"0.2071601898007465\" PhysicalSizeYUnit=\"µm\" PhysicalSizeZ=\"0.5\" PhysicalSizeZUnit=\"µm\" SignificantBits=\"12\" SizeC=\"2\" SizeT=\"1\" SizeX=\"1024\" SizeY=\"1024\" SizeZ=\"35\" Type=\"uint16\"><Channel Color=\"16711935\" EmissionWavelength=\"535.0\" EmissionWavelengthUnit=\"nm\" ID=\"Channel:0:0\" Name=\"Alexa 488 antibody\" SamplesPerPixel=\"1\"><DetectorSettings ID=\"Detector:0:0\"/><LightPath/></Channel><Channel Color=\"65535\" EmissionWavelength=\"825.0\" EmissionWavelengthUnit=\"nm\" ID=\"Channel:0:1\" Name=\"Alx647\" SamplesPerPixel=\"1\"><DetectorSettings ID=\"Detector:0:0\"/><LightPath/></Channel><MetadataOnly/><Plane DeltaT=\"0.7572736046038335\" DeltaTUnit=\"s\" ExposureTime=\"7845.979283975437\" ExposureTimeUnit=\"s\" PositionZ=\"-1011.45\" PositionZUnit=\"reference frame\" TheC=\"0\" TheT=\"0\" TheZ=\"0\"/><Plane DeltaT=\"0.7572736046038335\" DeltaTUnit=\"s\" PositionZ=\"-1011.45\" PositionZUnit=\"reference frame\" TheC=\"1\" TheT=\"0\" TheZ=\"0\"/><Plane DeltaT=\"9.22662492971099\" DeltaTUnit=\"s\" ExposureTime=\"7845.979283975437\" ExposureTimeUnit=\"s\" PositionZ=\"-1011.45\" PositionZUnit=\"reference frame\" TheC=\"0\" TheT=\"0\" TheZ=\"1\"/><Plane DeltaT=\"9.22662492971099\" DeltaTUnit=\"s\" PositionZ=\"-1011.45\" PositionZUnit=\"reference frame\" TheC=\"1\" TheT=\"0\" TheZ=\"1\"/><Plane DeltaT=\"17.706580439492594\" DeltaTUnit=\"s\" ExposureTime=\"7845.979283975437\" ExposureTimeUnit=\"s\" PositionZ=\"-1011.45\" PositionZUnit=\"reference frame\" TheC=\"0\" TheT=\"0\" TheZ=\"2\"/><Plane DeltaT=\"17.706580439492594\" DeltaTUnit=\"s\" PositionZ=\"-1011.45\" PositionZUnit=\"reference frame\" TheC=\"1\" TheT=\"0\" TheZ=\"2\"/><Plane DeltaT=\"26.205804804500076\" DeltaTUnit=\"s\" ExposureTime=\"7845.979283975437\" ExposureTimeUnit=\"s\" PositionZ=\"-1011.45\" PositionZUnit=\"reference frame\" TheC=\"0\" TheT=\"0\" TheZ=\"3\"/><Plane DeltaT=\"26.205804804500076\" DeltaTUnit=\"s\" PositionZ=\"-1011.45\" PositionZUnit=\"reference frame\" TheC=\"1\" TheT=\"0\" TheZ=\"3\"/><Plane DeltaT=\"34.768022420885856\" DeltaTUnit=\"s\" ExposureTime=\"7845.979283975437\" ExposureTimeUnit=\"s\" PositionZ=\"-1011.45\" PositionZUnit=\"reference frame\" TheC=\"0\" TheT=\"0\" TheZ=\"4\"/><Plane DeltaT=\"34.768022420885856\" DeltaTUnit=\"s\" PositionZ=\"-1011.45\" PositionZUnit=\"reference frame\" TheC=\"1\" TheT=\"0\" TheZ=\"4\"/><Plane DeltaT=\"43.2290051649271\" DeltaTUnit=\"s\" ExposureTime=\"7845.979283975437\" ExposureTimeUnit=\"s\" PositionZ=\"-1011.45\" PositionZUnit=\"reference frame\" TheC=\"0\" TheT=\"0\" TheZ=\"5\"/><Plane DeltaT=\"43.2290051649271\" DeltaTUnit=\"s\" PositionZ=\"-1011.45\" PositionZUnit=\"reference frame\" TheC=\"1\" TheT=\"0\" TheZ=\"5\"/><Plane DeltaT=\"51.90409601832193\" DeltaTUnit=\"s\" ExposureTime=\"7845.979283975437\" ExposureTimeUnit=\"s\" PositionZ=\"-1011.45\" PositionZUnit=\"reference frame\" TheC=\"0\" TheT=\"0\" TheZ=\"6\"/><Plane DeltaT=\"51.90409601832193\" DeltaTUnit=\"s\" PositionZ=\"-1011.45\" PositionZUnit=\"reference frame\" TheC=\"1\" TheT=\"0\" TheZ=\"6\"/><Plane DeltaT=\"60.314055803055524\" DeltaTUnit=\"s\" ExposureTime=\"7845.979283975437\" ExposureTimeUnit=\"s\" PositionZ=\"-1011.45\" PositionZUnit=\"reference frame\" TheC=\"0\" TheT=\"0\" TheZ=\"7\"/><Plane DeltaT=\"60.314055803055524\" DeltaTUnit=\"s\" PositionZ=\"-1011.45\" PositionZUnit=\"reference frame\" TheC=\"1\" TheT=\"0\" TheZ=\"7\"/><Plane DeltaT=\"68.70302395253034\" DeltaTUnit=\"s\" ExposureTime=\"7845.979283975437\" ExposureTimeUnit=\"s\" PositionZ=\"-1011.45\" PositionZUnit=\"reference frame\" TheC=\"0\" TheT=\"0\" TheZ=\"8\"/><Plane DeltaT=\"68.70302395253034\" DeltaTUnit=\"s\" PositionZ=\"-1011.45\" PositionZUnit=\"reference frame\" TheC=\"1\" TheT=\"0\" TheZ=\"8\"/><Plane DeltaT=\"77.24213976277026\" DeltaTUnit=\"s\" ExposureTime=\"7845.979283975437\" ExposureTimeUnit=\"s\" PositionZ=\"-1011.45\" PositionZUnit=\"reference frame\" TheC=\"0\" TheT=\"0\" TheZ=\"9\"/><Plane DeltaT=\"77.24213976277026\" DeltaTUnit=\"s\" PositionZ=\"-1011.45\" PositionZUnit=\"reference frame\" TheC=\"1\" TheT=\"0\" TheZ=\"9\"/><Plane DeltaT=\"85.80144512147794\" DeltaTUnit=\"s\" ExposureTime=\"7845.979283975437\" ExposureTimeUnit=\"s\" PositionZ=\"-1011.45\" PositionZUnit=\"reference frame\" TheC=\"0\" TheT=\"0\" TheZ=\"10\"/><Plane DeltaT=\"85.80144512147794\" DeltaTUnit=\"s\" PositionZ=\"-1011.45\" PositionZUnit=\"reference frame\" TheC=\"1\" TheT=\"0\" TheZ=\"10\"/><Plane DeltaT=\"94.26171025382658\" DeltaTUnit=\"s\" ExposureTime=\"7845.979283975437\" ExposureTimeUnit=\"s\" PositionZ=\"-1011.45\" PositionZUnit=\"reference frame\" TheC=\"0\" TheT=\"0\" TheZ=\"11\"/><Plane DeltaT=\"94.26171025382658\" DeltaTUnit=\"s\" PositionZ=\"-1011.45\" PositionZUnit=\"reference frame\" TheC=\"1\" TheT=\"0\" TheZ=\"11\"/><Plane DeltaT=\"102.76065687495063\" DeltaTUnit=\"s\" ExposureTime=\"7845.979283975437\" ExposureTimeUnit=\"s\" PositionZ=\"-1011.45\" PositionZUnit=\"reference frame\" TheC=\"0\" TheT=\"0\" TheZ=\"12\"/><Plane DeltaT=\"102.76065687495063\" DeltaTUnit=\"s\" PositionZ=\"-1011.45\" PositionZUnit=\"reference frame\" TheC=\"1\" TheT=\"0\" TheZ=\"12\"/><Plane DeltaT=\"111.13060276822361\" DeltaTUnit=\"s\" ExposureTime=\"7845.979283975437\" ExposureTimeUnit=\"s\" PositionZ=\"-1011.45\" PositionZUnit=\"reference frame\" TheC=\"0\" TheT=\"0\" TheZ=\"13\"/><Plane DeltaT=\"111.13060276822361\" DeltaTUnit=\"s\" PositionZ=\"-1011.45\" PositionZUnit=\"reference frame\" TheC=\"1\" TheT=\"0\" TheZ=\"13\"/><Plane DeltaT=\"119.55955025116435\" DeltaTUnit=\"s\" ExposureTime=\"7845.979283975437\" ExposureTimeUnit=\"s\" PositionZ=\"-1011.45\" PositionZUnit=\"reference frame\" TheC=\"0\" TheT=\"0\" TheZ=\"14\"/><Plane DeltaT=\"119.55955025116435\" DeltaTUnit=\"s\" PositionZ=\"-1011.45\" PositionZUnit=\"reference frame\" TheC=\"1\" TheT=\"0\" TheZ=\"14\"/><Plane DeltaT=\"128.0301426775878\" DeltaTUnit=\"s\" ExposureTime=\"7845.979283975437\" ExposureTimeUnit=\"s\" PositionZ=\"-1011.45\" PositionZUnit=\"reference frame\" TheC=\"0\" TheT=\"0\" TheZ=\"15\"/><Plane DeltaT=\"128.0301426775878\" DeltaTUnit=\"s\" PositionZ=\"-1011.45\" PositionZUnit=\"reference frame\" TheC=\"1\" TheT=\"0\" TheZ=\"15\"/><Plane DeltaT=\"136.42827978835174\" DeltaTUnit=\"s\" ExposureTime=\"7845.979283975437\" ExposureTimeUnit=\"s\" PositionZ=\"-1011.45\" PositionZUnit=\"reference frame\" TheC=\"0\" TheT=\"0\" TheZ=\"16\"/><Plane DeltaT=\"136.42827978835174\" DeltaTUnit=\"s\" PositionZ=\"-1011.45\" PositionZUnit=\"reference frame\" TheC=\"1\" TheT=\"0\" TheZ=\"16\"/><Plane DeltaT=\"144.79774485619203\" DeltaTUnit=\"s\" ExposureTime=\"7845.979283975437\" ExposureTimeUnit=\"s\" PositionZ=\"-1011.45\" PositionZUnit=\"reference frame\" TheC=\"0\" TheT=\"0\" TheZ=\"17\"/><Plane DeltaT=\"144.79774485619203\" DeltaTUnit=\"s\" PositionZ=\"-1011.45\" PositionZUnit=\"reference frame\" TheC=\"1\" TheT=\"0\" TheZ=\"17\"/><Plane DeltaT=\"153.3174680850521\" DeltaTUnit=\"s\" ExposureTime=\"7845.979283975437\" ExposureTimeUnit=\"s\" PositionZ=\"-1011.45\" PositionZUnit=\"reference frame\" TheC=\"0\" TheT=\"0\" TheZ=\"18\"/><Plane DeltaT=\"153.3174680850521\" DeltaTUnit=\"s\" PositionZ=\"-1011.45\" PositionZUnit=\"reference frame\" TheC=\"1\" TheT=\"0\" TheZ=\"18\"/><Plane DeltaT=\"161.80680331722635\" DeltaTUnit=\"s\" ExposureTime=\"7845.979283975437\" ExposureTimeUnit=\"s\" PositionZ=\"-1011.45\" PositionZUnit=\"reference frame\" TheC=\"0\" TheT=\"0\" TheZ=\"19\"/><Plane DeltaT=\"161.80680331722635\" DeltaTUnit=\"s\" PositionZ=\"-1011.45\" PositionZUnit=\"reference frame\" TheC=\"1\" TheT=\"0\" TheZ=\"19\"/><Plane DeltaT=\"170.20636925174716\" DeltaTUnit=\"s\" ExposureTime=\"7845.979283975437\" ExposureTimeUnit=\"s\" PositionZ=\"-1011.45\" PositionZUnit=\"reference frame\" TheC=\"0\" TheT=\"0\" TheZ=\"20\"/><Plane DeltaT=\"170.20636925174716\" DeltaTUnit=\"s\" PositionZ=\"-1011.45\" PositionZUnit=\"reference frame\" TheC=\"1\" TheT=\"0\" TheZ=\"20\"/><Plane DeltaT=\"178.69589135307794\" DeltaTUnit=\"s\" ExposureTime=\"7845.979283975437\" ExposureTimeUnit=\"s\" PositionZ=\"-1011.45\" PositionZUnit=\"reference frame\" TheC=\"0\" TheT=\"0\" TheZ=\"21\"/><Plane DeltaT=\"178.69589135307794\" DeltaTUnit=\"s\" PositionZ=\"-1011.45\" PositionZUnit=\"reference frame\" TheC=\"1\" TheT=\"0\" TheZ=\"21\"/><Plane DeltaT=\"187.11518307631022\" DeltaTUnit=\"s\" ExposureTime=\"7845.979283975437\" ExposureTimeUnit=\"s\" PositionZ=\"-1011.45\" PositionZUnit=\"reference frame\" TheC=\"0\" TheT=\"0\" TheZ=\"22\"/><Plane DeltaT=\"187.11518307631022\" DeltaTUnit=\"s\" PositionZ=\"-1011.45\" PositionZUnit=\"reference frame\" TheC=\"1\" TheT=\"0\" TheZ=\"22\"/><Plane DeltaT=\"195.50461242568983\" DeltaTUnit=\"s\" ExposureTime=\"7845.979283975437\" ExposureTimeUnit=\"s\" PositionZ=\"-1011.45\" PositionZUnit=\"reference frame\" TheC=\"0\" TheT=\"0\" TheZ=\"23\"/><Plane DeltaT=\"195.50461242568983\" DeltaTUnit=\"s\" PositionZ=\"-1011.45\" PositionZUnit=\"reference frame\" TheC=\"1\" TheT=\"0\" TheZ=\"23\"/><Plane DeltaT=\"204.07280601530988\" DeltaTUnit=\"s\" ExposureTime=\"7845.979283975437\" ExposureTimeUnit=\"s\" PositionZ=\"-1011.45\" PositionZUnit=\"reference frame\" TheC=\"0\" TheT=\"0\" TheZ=\"24\"/><Plane DeltaT=\"204.07280601530988\" DeltaTUnit=\"s\" PositionZ=\"-1011.45\" PositionZUnit=\"reference frame\" TheC=\"1\" TheT=\"0\" TheZ=\"24\"/><Plane DeltaT=\"212.6034854084202\" DeltaTUnit=\"s\" ExposureTime=\"7845.979283975437\" ExposureTimeUnit=\"s\" PositionZ=\"-1011.45\" PositionZUnit=\"reference frame\" TheC=\"0\" TheT=\"0\" TheZ=\"25\"/><Plane DeltaT=\"212.6034854084202\" DeltaTUnit=\"s\" PositionZ=\"-1011.45\" PositionZUnit=\"reference frame\" TheC=\"1\" TheT=\"0\" TheZ=\"25\"/><Plane DeltaT=\"221.12331145798066\" DeltaTUnit=\"s\" ExposureTime=\"7845.979283975437\" ExposureTimeUnit=\"s\" PositionZ=\"-1011.45\" PositionZUnit=\"reference frame\" TheC=\"0\" TheT=\"0\" TheZ=\"26\"/><Plane DeltaT=\"221.12331145798066\" DeltaTUnit=\"s\" PositionZ=\"-1011.45\" PositionZUnit=\"reference frame\" TheC=\"1\" TheT=\"0\" TheZ=\"26\"/><Plane DeltaT=\"229.52366753331876\" DeltaTUnit=\"s\" ExposureTime=\"7845.979283975437\" ExposureTimeUnit=\"s\" PositionZ=\"-1011.45\" PositionZUnit=\"reference frame\" TheC=\"0\" TheT=\"0\" TheZ=\"27\"/><Plane DeltaT=\"229.52366753331876\" DeltaTUnit=\"s\" PositionZ=\"-1011.45\" PositionZUnit=\"reference frame\" TheC=\"1\" TheT=\"0\" TheZ=\"27\"/><Plane DeltaT=\"238.1220119067228\" DeltaTUnit=\"s\" ExposureTime=\"7845.979283975437\" ExposureTimeUnit=\"s\" PositionZ=\"-1011.45\" PositionZUnit=\"reference frame\" TheC=\"0\" TheT=\"0\" TheZ=\"28\"/><Plane DeltaT=\"238.1220119067228\" DeltaTUnit=\"s\" PositionZ=\"-1011.45\" PositionZUnit=\"reference frame\" TheC=\"1\" TheT=\"0\" TheZ=\"28\"/><Plane DeltaT=\"246.49167237655772\" DeltaTUnit=\"s\" ExposureTime=\"7845.979283975437\" ExposureTimeUnit=\"s\" PositionZ=\"-1011.45\" PositionZUnit=\"reference frame\" TheC=\"0\" TheT=\"0\" TheZ=\"29\"/><Plane DeltaT=\"246.49167237655772\" DeltaTUnit=\"s\" PositionZ=\"-1011.45\" PositionZUnit=\"reference frame\" TheC=\"1\" TheT=\"0\" TheZ=\"29\"/><Plane DeltaT=\"254.96455032369354\" DeltaTUnit=\"s\" ExposureTime=\"7845.979283975437\" ExposureTimeUnit=\"s\" PositionZ=\"-1011.45\" PositionZUnit=\"reference frame\" TheC=\"0\" TheT=\"0\" TheZ=\"30\"/><Plane DeltaT=\"254.96455032369354\" DeltaTUnit=\"s\" PositionZ=\"-1011.45\" PositionZUnit=\"reference frame\" TheC=\"1\" TheT=\"0\" TheZ=\"30\"/><Plane DeltaT=\"263.35984045299165\" DeltaTUnit=\"s\" ExposureTime=\"7845.979283975437\" ExposureTimeUnit=\"s\" PositionZ=\"-1011.45\" PositionZUnit=\"reference frame\" TheC=\"0\" TheT=\"0\" TheZ=\"31\"/><Plane DeltaT=\"263.35984045299165\" DeltaTUnit=\"s\" PositionZ=\"-1011.45\" PositionZUnit=\"reference frame\" TheC=\"1\" TheT=\"0\" TheZ=\"31\"/><Plane DeltaT=\"271.7599277439264\" DeltaTUnit=\"s\" ExposureTime=\"7845.979283975437\" ExposureTimeUnit=\"s\" PositionZ=\"-1011.45\" PositionZUnit=\"reference frame\" TheC=\"0\" TheT=\"0\" TheZ=\"32\"/><Plane DeltaT=\"271.7599277439264\" DeltaTUnit=\"s\" PositionZ=\"-1011.45\" PositionZUnit=\"reference frame\" TheC=\"1\" TheT=\"0\" TheZ=\"32\"/><Plane DeltaT=\"280.1391249403771\" DeltaTUnit=\"s\" ExposureTime=\"7845.979283975437\" ExposureTimeUnit=\"s\" PositionZ=\"-1011.45\" PositionZUnit=\"reference frame\" TheC=\"0\" TheT=\"0\" TheZ=\"33\"/><Plane DeltaT=\"280.1391249403771\" DeltaTUnit=\"s\" PositionZ=\"-1011.45\" PositionZUnit=\"reference frame\" TheC=\"1\" TheT=\"0\" TheZ=\"33\"/><Plane DeltaT=\"288.5685784206232\" DeltaTUnit=\"s\" ExposureTime=\"7845.979283975437\" ExposureTimeUnit=\"s\" PositionZ=\"-1011.45\" PositionZUnit=\"reference frame\" TheC=\"0\" TheT=\"0\" TheZ=\"34\"/><Plane DeltaT=\"288.5685784206232\" DeltaTUnit=\"s\" PositionZ=\"-1011.45\" PositionZUnit=\"reference frame\" TheC=\"1\" TheT=\"0\" TheZ=\"34\"/></Pixels></Image>]"
      ]
     },
     "execution_count": 5,
     "metadata": {},
     "output_type": "execute_result"
    }
   ],
   "source": [
    "f.meta.allmetadata"
   ]
  },
  {
   "cell_type": "code",
   "execution_count": 7,
   "metadata": {},
   "outputs": [
    {
     "data": {
      "text/plain": [
       "(1024, 1024, 3, 35)"
      ]
     },
     "execution_count": 7,
     "metadata": {},
     "output_type": "execute_result"
    }
   ],
   "source": [
    "f.getZStack().shape"
   ]
  }
 ],
 "metadata": {
  "kernelspec": {
   "display_name": "Python 2",
   "language": "python",
   "name": "python2"
  },
  "language_info": {
   "codemirror_mode": {
    "name": "ipython",
    "version": 2
   },
   "file_extension": ".py",
   "mimetype": "text/x-python",
   "name": "python",
   "nbconvert_exporter": "python",
   "pygments_lexer": "ipython2",
   "version": "2.7.6"
  }
 },
 "nbformat": 4,
 "nbformat_minor": 0
}
